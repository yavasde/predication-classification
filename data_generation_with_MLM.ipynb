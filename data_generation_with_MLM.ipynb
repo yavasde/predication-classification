{
 "cells": [
  {
   "cell_type": "markdown",
   "id": "aafb9028",
   "metadata": {},
   "source": [
    "# Data Generation with Masked Language Modeling with BERT"
   ]
  },
  {
   "cell_type": "markdown",
   "id": "438ba6f2",
   "metadata": {},
   "source": [
    "We use the MLM feature of BERT for the generation of the adjectival predication data. We insert an adjective to the sentences where there is a verbal predication targeting a certain semantic type. We expect the inserted adjectives to target the same semantic type. "
   ]
  },
  {
   "cell_type": "code",
   "execution_count": 1,
   "id": "c014ba3e",
   "metadata": {},
   "outputs": [],
   "source": [
    "from transformers import AutoModelForMaskedLM, AutoTokenizer, pipeline\n",
    "import spacy"
   ]
  },
  {
   "cell_type": "code",
   "execution_count": 7,
   "id": "fd15e3ab",
   "metadata": {},
   "outputs": [
    {
     "data": {
      "application/vnd.jupyter.widget-view+json": {
       "model_id": "cc368e785f1742a0b2556517890f5f22",
       "version_major": 2,
       "version_minor": 0
      },
      "text/plain": [
       "Downloading (…)okenizer_config.json:   0%|          | 0.00/29.0 [00:00<?, ?B/s]"
      ]
     },
     "metadata": {},
     "output_type": "display_data"
    },
    {
     "name": "stderr",
     "output_type": "stream",
     "text": [
      "c:\\Users\\yavas\\AppData\\Local\\Programs\\Python\\Python39\\lib\\site-packages\\huggingface_hub\\file_download.py:133: UserWarning: `huggingface_hub` cache-system uses symlinks by default to efficiently store duplicated files but your machine does not support them in C:\\Users\\yavas\\.cache\\huggingface\\hub. Caching files will still work but in a degraded version that might require more space on your disk. This warning can be disabled by setting the `HF_HUB_DISABLE_SYMLINKS_WARNING` environment variable. For more details, see https://huggingface.co/docs/huggingface_hub/how-to-cache#limitations.\n",
      "To support symlinks on Windows, you either need to activate Developer Mode or to run Python as an administrator. In order to see activate developer mode, see this article: https://docs.microsoft.com/en-us/windows/apps/get-started/enable-your-device-for-development\n",
      "  warnings.warn(message)\n"
     ]
    },
    {
     "data": {
      "application/vnd.jupyter.widget-view+json": {
       "model_id": "47a827da13b640428dd4d93213591cdb",
       "version_major": 2,
       "version_minor": 0
      },
      "text/plain": [
       "Downloading (…)lve/main/config.json:   0%|          | 0.00/762 [00:00<?, ?B/s]"
      ]
     },
     "metadata": {},
     "output_type": "display_data"
    },
    {
     "data": {
      "application/vnd.jupyter.widget-view+json": {
       "model_id": "08f043a81dcb4d02beb45fea6ba7a93f",
       "version_major": 2,
       "version_minor": 0
      },
      "text/plain": [
       "Downloading (…)solve/main/vocab.txt:   0%|          | 0.00/213k [00:00<?, ?B/s]"
      ]
     },
     "metadata": {},
     "output_type": "display_data"
    },
    {
     "data": {
      "application/vnd.jupyter.widget-view+json": {
       "model_id": "533116cf832b4da29184f0750fb8e7a2",
       "version_major": 2,
       "version_minor": 0
      },
      "text/plain": [
       "Downloading (…)/main/tokenizer.json:   0%|          | 0.00/436k [00:00<?, ?B/s]"
      ]
     },
     "metadata": {},
     "output_type": "display_data"
    },
    {
     "data": {
      "application/vnd.jupyter.widget-view+json": {
       "model_id": "4ff8ab10b30b4df5958aa19e84c6b563",
       "version_major": 2,
       "version_minor": 0
      },
      "text/plain": [
       "Downloading model.safetensors:   0%|          | 0.00/1.34G [00:00<?, ?B/s]"
      ]
     },
     "metadata": {},
     "output_type": "display_data"
    },
    {
     "name": "stderr",
     "output_type": "stream",
     "text": [
      "Some weights of the model checkpoint at bert-large-cased were not used when initializing BertForMaskedLM: ['cls.seq_relationship.weight', 'cls.seq_relationship.bias', 'bert.pooler.dense.weight', 'bert.pooler.dense.bias']\n",
      "- This IS expected if you are initializing BertForMaskedLM from the checkpoint of a model trained on another task or with another architecture (e.g. initializing a BertForSequenceClassification model from a BertForPreTraining model).\n",
      "- This IS NOT expected if you are initializing BertForMaskedLM from the checkpoint of a model that you expect to be exactly identical (initializing a BertForSequenceClassification model from a BertForSequenceClassification model).\n"
     ]
    }
   ],
   "source": [
    "model_name = \"bert-large-cased\"\n",
    "tokenizer = AutoTokenizer.from_pretrained(model_name)\n",
    "model = AutoModelForMaskedLM.from_pretrained(model_name)\n",
    "\n",
    "unmasker = pipeline('fill-mask', model=model, tokenizer=tokenizer)\n",
    "nlp = spacy.load(\"en_core_web_trf\")"
   ]
  },
  {
   "cell_type": "markdown",
   "id": "fe386edd",
   "metadata": {},
   "source": [
    "In order to insert the adjectives, first we insert a mask in place of the adjective."
   ]
  },
  {
   "cell_type": "code",
   "execution_count": 8,
   "id": "2cf78bc8",
   "metadata": {},
   "outputs": [
    {
     "data": {
      "text/plain": [
       "'I ate the [MASK] soup.'"
      ]
     },
     "execution_count": 8,
     "metadata": {},
     "output_type": "execute_result"
    }
   ],
   "source": [
    "def mask_sentence(sentence, word, mask):\n",
    "  mask_start = sentence.index(word)  \n",
    "  masked_sentence = sentence[:mask_start] + f\"{mask} \" + sentence[mask_start:]\n",
    "  return masked_sentence\n",
    "\n",
    "mask = \"[MASK]\"\n",
    "sentence = \"I ate the soup.\" #Food verbal predication\n",
    "word = \"soup\"\n",
    "masked_sentence = mask_sentence(sentence, word, mask)\n",
    "masked_sentence"
   ]
  },
  {
   "cell_type": "markdown",
   "id": "fe56a29f",
   "metadata": {},
   "source": [
    "We make the model predict a word in place of the mask."
   ]
  },
  {
   "cell_type": "code",
   "execution_count": 9,
   "id": "0769352c",
   "metadata": {},
   "outputs": [
    {
     "data": {
      "text/plain": [
       "[{'score': 0.16507339477539062,\n",
       "  'token': 17690,\n",
       "  'token_str': 'vegetable',\n",
       "  'sequence': 'I ate the vegetable soup.'},\n",
       " {'score': 0.1070723757147789,\n",
       "  'token': 2504,\n",
       "  'token_str': 'cold',\n",
       "  'sequence': 'I ate the cold soup.'},\n",
       " {'score': 0.10284987837076187,\n",
       "  'token': 9323,\n",
       "  'token_str': 'chicken',\n",
       "  'sequence': 'I ate the chicken soup.'},\n",
       " {'score': 0.05587597191333771,\n",
       "  'token': 2633,\n",
       "  'token_str': 'hot',\n",
       "  'sequence': 'I ate the hot soup.'},\n",
       " {'score': 0.042337991297245026,\n",
       "  'token': 26422,\n",
       "  'token_str': 'tomato',\n",
       "  'sequence': 'I ate the tomato soup.'}]"
      ]
     },
     "execution_count": 9,
     "metadata": {},
     "output_type": "execute_result"
    }
   ],
   "source": [
    "sentence_alternatives = unmasker(masked_sentence)\n",
    "sentence_alternatives"
   ]
  },
  {
   "cell_type": "markdown",
   "id": "05898ce7",
   "metadata": {},
   "source": [
    "We insert the model-predicted words instead of the mask and parse the final sentences to check whether the predicted word is an adjective or not. It is also possible to control the quality of the predictions by checking the confidence score of the predictions."
   ]
  },
  {
   "cell_type": "code",
   "execution_count": 17,
   "id": "dacbd27d",
   "metadata": {},
   "outputs": [
    {
     "name": "stdout",
     "output_type": "stream",
     "text": [
      "I ate the cold soup.\n",
      "I ate the hot soup.\n"
     ]
    }
   ],
   "source": [
    "for alternative in sentence_alternatives:\n",
    "    doc = nlp(alternative[\"sequence\"])\n",
    "    for token in doc:\n",
    "        if token.text == word:\n",
    "            for child in token.children:\n",
    "                if child.dep_ == \"amod\" and child.text == alternative[\"token_str\"]:\n",
    "                    print(alternative[\"sequence\"])"
   ]
  }
 ],
 "metadata": {
  "kernelspec": {
   "display_name": "Python 3",
   "language": "python",
   "name": "python3"
  },
  "language_info": {
   "codemirror_mode": {
    "name": "ipython",
    "version": 3
   },
   "file_extension": ".py",
   "mimetype": "text/x-python",
   "name": "python",
   "nbconvert_exporter": "python",
   "pygments_lexer": "ipython3",
   "version": "3.9.5"
  }
 },
 "nbformat": 4,
 "nbformat_minor": 5
}
